{
 "cells": [
  {
   "cell_type": "code",
   "execution_count": 1,
   "metadata": {},
   "outputs": [],
   "source": [
    "from minio import Minio"
   ]
  },
  {
   "cell_type": "code",
   "execution_count": 2,
   "metadata": {},
   "outputs": [],
   "source": [
    "import os\n",
    "import copy\n",
    "import urllib3\n",
    "import pandas as pd\n",
    "from minio import Minio\n",
    "from dotenv import load_dotenv\n"
   ]
  },
  {
   "cell_type": "code",
   "execution_count": 3,
   "metadata": {},
   "outputs": [],
   "source": [
    "ENV_PATH = \"../.env\"\n",
    "\n",
    "load_dotenv(ENV_PATH)\n",
    "urllib3.disable_warnings()\n",
    "\n",
    "ACCESS_KEY = os.getenv(\"MINIO_ACCESSKEY\")\n",
    "SECRET_KEY = os.getenv(\"MINIO_SECRETKEY\")\n",
    "URL = os.getenv(\"MINIO_URL\")\n",
    "TLS = os.getenv(\"MINIO_TLS\")"
   ]
  },
  {
   "cell_type": "code",
   "execution_count": 18,
   "metadata": {},
   "outputs": [],
   "source": [
    "BUCKET_NAME = os.getenv(\"MINIO_BUCKETNAME\")\n",
    "INGEST_SOURCE_FILE = \"/car_evaluation/car.data\"\n",
    "INGEST_DEST_FILE = \"../data/car.csv\"\n",
    "INGEST_INDEX_LABEL = \"index\"\n",
    "INGEST_SEP = \"\\t\""
   ]
  },
  {
   "cell_type": "code",
   "execution_count": 5,
   "metadata": {},
   "outputs": [
    {
     "data": {
      "text/plain": [
       "'localhost:9000'"
      ]
     },
     "execution_count": 5,
     "metadata": {},
     "output_type": "execute_result"
    }
   ],
   "source": [
    "URL"
   ]
  },
  {
   "cell_type": "code",
   "execution_count": 6,
   "metadata": {},
   "outputs": [],
   "source": [
    "client = Minio(\n",
    "            endpoint = URL,\n",
    "            access_key = ACCESS_KEY,\n",
    "            secret_key = SECRET_KEY,\n",
    "            secure = False,\n",
    "            cert_check = (not TLS)\n",
    "    )"
   ]
  },
  {
   "cell_type": "code",
   "execution_count": 7,
   "metadata": {},
   "outputs": [
    {
     "data": {
      "text/plain": [
       "[Bucket('dvc'), Bucket('hands-on')]"
      ]
     },
     "execution_count": 7,
     "metadata": {},
     "output_type": "execute_result"
    }
   ],
   "source": [
    "client.list_buckets()"
   ]
  },
  {
   "cell_type": "code",
   "execution_count": 8,
   "metadata": {},
   "outputs": [],
   "source": [
    "found = client.bucket_exists(BUCKET_NAME)"
   ]
  },
  {
   "cell_type": "code",
   "execution_count": 9,
   "metadata": {},
   "outputs": [
    {
     "data": {
      "text/plain": [
       "True"
      ]
     },
     "execution_count": 9,
     "metadata": {},
     "output_type": "execute_result"
    }
   ],
   "source": [
    "found"
   ]
  },
  {
   "cell_type": "code",
   "execution_count": 10,
   "metadata": {},
   "outputs": [
    {
     "data": {
      "text/plain": [
       "'/car_evaluation/car.data'"
      ]
     },
     "execution_count": 10,
     "metadata": {},
     "output_type": "execute_result"
    }
   ],
   "source": [
    "INGEST_SOURCE_FILE"
   ]
  },
  {
   "cell_type": "code",
   "execution_count": 11,
   "metadata": {},
   "outputs": [
    {
     "data": {
      "text/plain": [
       "'/car_evaluation/car.data'"
      ]
     },
     "execution_count": 11,
     "metadata": {},
     "output_type": "execute_result"
    }
   ],
   "source": [
    "INGEST_SOURCE_FILE"
   ]
  },
  {
   "cell_type": "code",
   "execution_count": 12,
   "metadata": {},
   "outputs": [],
   "source": [
    "res = client.get_object(\n",
    "    bucket_name = BUCKET_NAME,\n",
    "    object_name = INGEST_SOURCE_FILE\n",
    ")"
   ]
  },
  {
   "cell_type": "code",
   "execution_count": 13,
   "metadata": {},
   "outputs": [
    {
     "data": {
      "text/plain": [
       "<urllib3.response.HTTPResponse at 0x1233c5ed0>"
      ]
     },
     "execution_count": 13,
     "metadata": {},
     "output_type": "execute_result"
    }
   ],
   "source": [
    "res"
   ]
  },
  {
   "cell_type": "code",
   "execution_count": 14,
   "metadata": {},
   "outputs": [],
   "source": [
    "data = copy.deepcopy(res.data.decode())"
   ]
  },
  {
   "cell_type": "code",
   "execution_count": 15,
   "metadata": {},
   "outputs": [
    {
     "data": {
      "text/plain": [
       "'vhigh,vhigh,2,2,small,low,unacc\\nvhigh,vhigh,2,2,small,med,unacc\\nvhigh,vhigh,2,2,small,high,unacc\\nvhigh,vhigh,2,2,med,low,unacc\\nvhigh,vhigh,2,2,med,med,unacc\\nvhigh,vhigh,2,2,med,high,unacc\\nvhigh,vhigh,2,2,big,low,unacc\\nvhigh,vhigh,2,2,big,med,unacc\\nvhigh,vhigh,2,2,big,high,unacc\\nvhigh,vhigh,2,4,small,low,unacc\\nvhigh,vhigh,2,4,small,med,unacc\\nvhigh,vhigh,2,4,small,high,unacc\\nvhigh,vhigh,2,4,med,low,unacc\\nvhigh,vhigh,2,4,med,med,unacc\\nvhigh,vhigh,2,4,med,high,unacc\\nvhigh,vhigh,2,4,big,low,unacc\\nvhigh,vhigh,2,4,big,med,unacc\\nvhigh,vhigh,2,4,big,high,unacc\\nvhigh,vhigh,2,more,small,low,unacc\\nvhigh,vhigh,2,more,small,med,unacc\\nvhigh,vhigh,2,more,small,high,unacc\\nvhigh,vhigh,2,more,med,low,unacc\\nvhigh,vhigh,2,more,med,med,unacc\\nvhigh,vhigh,2,more,med,high,unacc\\nvhigh,vhigh,2,more,big,low,unacc\\nvhigh,vhigh,2,more,big,med,unacc\\nvhigh,vhigh,2,more,big,high,unacc\\nvhigh,vhigh,3,2,small,low,unacc\\nvhigh,vhigh,3,2,small,med,unacc\\nvhigh,vhigh,3,2,small,high,unacc\\nvhigh,vhigh,3,2,med,low,unacc\\nvhigh,vhigh,3,2,med,med,unacc\\nvhigh,vhigh,3,2,med,high,unacc\\nvhigh,vhigh,3,2,big,low,unacc\\nvhigh,vhigh,3,2,big,med,unacc\\nvhigh,vhigh,3,2,big,high,unacc\\nvhigh,vhigh,3,4,small,low,unacc\\nvhigh,vhigh,3,4,small,med,unacc\\nvhigh,vhigh,3,4,small,high,unacc\\nvhigh,vhigh,3,4,med,low,unacc\\nvhigh,vhigh,3,4,med,med,unacc\\nvhigh,vhigh,3,4,med,high,unacc\\nvhigh,vhigh,3,4,big,low,unacc\\nvhigh,vhigh,3,4,big,med,unacc\\nvhigh,vhigh,3,4,big,high,unacc\\nvhigh,vhigh,3,more,small,low,unacc\\nvhigh,vhigh,3,more,small,med,unacc\\nvhigh,vhigh,3,more,small,high,unacc\\nvhigh,vhigh,3,more,med,low,unacc\\nvhigh,vhigh,3,more,med,med,unacc\\nvhigh,vhigh,3,more,med,high,unacc\\nvhigh,vhigh,3,more,big,low,unacc\\nvhigh,vhigh,3,more,big,med,unacc\\nvhigh,vhigh,3,more,big,high,unacc\\nvhigh,vhigh,4,2,small,low,unacc\\nvhigh,vhigh,4,2,small,med,unacc\\nvhigh,vhigh,4,2,small,high,unacc\\nvhigh,vhigh,4,2,med,low,unacc\\nvhigh,vhigh,4,2,med,med,unacc\\nvhigh,vhigh,4,2,med,high,unacc\\nvhigh,vhigh,4,2,big,low,unacc\\nvhigh,vhigh,4,2,big,med,unacc\\nvhigh,vhigh,4,2,big,high,unacc\\nvhigh,vhigh,4,4,small,low,unacc\\nvhigh,vhigh,4,4,small,med,unacc\\nvhigh,vhigh,4,4,small,high,unacc\\nvhigh,vhigh,4,4,med,low,unacc\\nvhigh,vhigh,4,4,med,med,unacc\\nvhigh,vhigh,4,4,med,high,unacc\\nvhigh,vhigh,4,4,big,low,unacc\\nvhigh,vhigh,4,4,big,med,unacc\\nvhigh,vhigh,4,4,big,high,unacc\\nvhigh,vhigh,4,more,small,low,unacc\\nvhigh,vhigh,4,more,small,med,unacc\\nvhigh,vhigh,4,more,small,high,unacc\\nvhigh,vhigh,4,more,med,low,unacc\\nvhigh,vhigh,4,more,med,med,unacc\\nvhigh,vhigh,4,more,med,high,unacc\\nvhigh,vhigh,4,more,big,low,unacc\\nvhigh,vhigh,4,more,big,med,unacc\\nvhigh,vhigh,4,more,big,high,unacc\\nvhigh,vhigh,5more,2,small,low,unacc\\nvhigh,vhigh,5more,2,small,med,unacc\\nvhigh,vhigh,5more,2,small,high,unacc\\nvhigh,vhigh,5more,2,med,low,unacc\\nvhigh,vhigh,5more,2,med,med,unacc\\nvhigh,vhigh,5more,2,med,high,unacc\\nvhigh,vhigh,5more,2,big,low,unacc\\nvhigh,vhigh,5more,2,big,med,unacc\\nvhigh,vhigh,5more,2,big,high,unacc\\nvhigh,vhigh,5more,4,small,low,unacc\\nvhigh,vhigh,5more,4,small,med,unacc\\nvhigh,vhigh,5more,4,small,high,unacc\\nvhigh,vhigh,5more,4,med,low,unacc\\nvhigh,vhigh,5more,4,med,med,unacc\\nvhigh,vhigh,5more,4,med,high,unacc\\nvhigh,vhigh,5more,4,big,low,unacc\\nvhigh,vhigh,5more,4,big,med,unacc\\nvhigh,vhigh,5more,4,big,high,unacc\\nvhigh,vhigh,5more,more,small,low,unacc\\nvhigh,vhigh,5more,more,small,med,unacc\\nvhigh,vhigh,5more,more,small,high,unacc\\nvhigh,vhigh,5more,more,med,low,unacc\\nvhigh,vhigh,5more,more,med,med,unacc\\nvhigh,vhigh,5more,more,med,high,unacc\\nvhigh,vhigh,5more,more,big,low,unacc\\nvhigh,vhigh,5more,more,big,med,unacc\\nvhigh,vhigh,5more,more,big,high,unacc\\nvhigh,high,2,2,small,low,unacc\\nvhigh,high,2,2,small,med,unacc\\nvhigh,high,2,2,small,high,unacc\\nvhigh,high,2,2,med,low,unacc\\nvhigh,high,2,2,med,med,unacc\\nvhigh,high,2,2,med,high,unacc\\nvhigh,high,2,2,big,low,unacc\\nvhigh,high,2,2,big,med,unacc\\nvhigh,high,2,2,big,high,unacc\\nvhigh,high,2,4,small,low,unacc\\nvhigh,high,2,4,small,med,unacc\\nvhigh,high,2,4,small,high,unacc\\nvhigh,high,2,4,med,low,unacc\\nvhigh,high,2,4,med,med,unacc\\nvhigh,high,2,4,med,high,unacc\\nvhigh,high,2,4,big,low,unacc\\nvhigh,high,2,4,big,med,unacc\\nvhigh,high,2,4,big,high,unacc\\nvhigh,high,2,more,small,low,unacc\\nvhigh,high,2,more,small,med,unacc\\nvhigh,high,2,more,small,high,unacc\\nvhigh,high,2,more,med,low,unacc\\nvhigh,high,2,more,med,med,unacc\\nvhigh,high,2,more,med,high,unacc\\nvhigh,high,2,more,big,low,unacc\\nvhigh,high,2,more,big,med,unacc\\nvhigh,high,2,more,big,high,unacc\\nvhigh,high,3,2,small,low,unacc\\nvhigh,high,3,2,small,med,unacc\\nvhigh,high,3,2,small,high,unacc\\nvhigh,high,3,2,med,low,unacc\\nvhigh,high,3,2,med,med,unacc\\nvhigh,high,3,2,med,high,unacc\\nvhigh,high,3,2,big,low,unacc\\nvhigh,high,3,2,big,med,unacc\\nvhigh,high,3,2,big,high,unacc\\nvhigh,high,3,4,small,low,unacc\\nvhigh,high,3,4,small,med,unacc\\nvhigh,high,3,4,small,high,unacc\\nvhigh,high,3,4,med,low,unacc\\nvhigh,high,3,4,med,med,unacc\\nvhigh,high,3,4,med,high,unacc\\nvhigh,high,3,4,big,low,unacc\\nvhigh,high,3,4,big,med,unacc\\nvhigh,high,3,4,big,high,unacc\\nvhigh,high,3,more,small,low,unacc\\nvhigh,high,3,more,small,med,unacc\\nvhigh,high,3,more,small,high,unacc\\nvhigh,high,3,more,med,low,unacc\\nvhigh,high,3,more,med,med,unacc\\nvhigh,high,3,more,med,high,unacc\\nvhigh,high,3,more,big,low,unacc\\nvhigh,high,3,more,big,med,unacc\\nvhigh,high,3,more,big,high,unacc\\nvhigh,high,4,2,small,low,unacc\\nvhigh,high,4,2,small,med,unacc\\nvhigh,high,4,2,small,high,unacc\\nvhigh,high,4,2,med,low,unacc\\nvhigh,high,4,2,med,med,unacc\\nvhigh,high,4,2,med,high,unacc\\nvhigh,high,4,2,big,low,unacc\\nvhigh,high,4,2,big,med,unacc\\nvhigh,high,4,2,big,high,unacc\\nvhigh,high,4,4,small,low,unacc\\nvhigh,high,4,4,small,med,unacc\\nvhigh,high,4,4,small,high,unacc\\nvhigh,high,4,4,med,low,unacc\\nvhigh,high,4,4,med,med,unacc\\nvhigh,high,4,4,med,high,unacc\\nvhigh,high,4,4,big,low,unacc\\nvhigh,high,4,4,big,med,unacc\\nvhigh,high,4,4,big,high,unacc\\nvhigh,high,4,more,small,low,unacc\\nvhigh,high,4,more,small,med,unacc\\nvhigh,high,4,more,small,high,unacc\\nvhigh,high,4,more,med,low,unacc\\nvhigh,high,4,more,med,med,unacc\\nvhigh,high,4,more,med,high,unacc\\nvhigh,high,4,more,big,low,unacc\\nvhigh,high,4,more,big,med,unacc\\nvhigh,high,4,more,big,high,unacc\\nvhigh,high,5more,2,small,low,unacc\\nvhigh,high,5more,2,small,med,unacc\\nvhigh,high,5more,2,small,high,unacc\\nvhigh,high,5more,2,med,low,unacc\\nvhigh,high,5more,2,med,med,unacc\\nvhigh,high,5more,2,med,high,unacc\\nvhigh,high,5more,2,big,low,unacc\\nvhigh,high,5more,2,big,med,unacc\\nvhigh,high,5more,2,big,high,unacc\\nvhigh,high,5more,4,small,low,unacc\\nvhigh,high,5more,4,small,med,unacc\\nvhigh,high,5more,4,small,high,unacc\\nvhigh,high,5more,4,med,low,unacc\\nvhigh,high,5more,4,med,med,unacc\\nvhigh,high,5more,4,med,high,unacc\\nvhigh,high,5more,4,big,low,unacc\\nvhigh,high,5more,4,big,med,unacc\\nvhigh,high,5more,4,big,high,unacc\\nvhigh,high,5more,more,small,low,unacc\\nvhigh,high,5more,more,small,med,unacc\\nvhigh,high,5more,more,small,high,unacc\\nvhigh,high,5more,more,med,low,unacc\\nvhigh,high,5more,more,med,med,unacc\\nvhigh,high,5more,more,med,high,unacc\\nvhigh,high,5more,more,big,low,unacc\\nvhigh,high,5more,more,big,med,unacc\\nvhigh,high,5more,more,big,high,unacc\\nvhigh,med,2,2,small,low,unacc\\nvhigh,med,2,2,small,med,unacc\\nvhigh,med,2,2,small,high,unacc\\nvhigh,med,2,2,med,low,unacc\\nvhigh,med,2,2,med,med,unacc\\nvhigh,med,2,2,med,high,unacc\\nvhigh,med,2,2,big,low,unacc\\nvhigh,med,2,2,big,med,unacc\\nvhigh,med,2,2,big,high,unacc\\nvhigh,med,2,4,small,low,unacc\\nvhigh,med,2,4,small,med,unacc\\nvhigh,med,2,4,small,high,acc\\nvhigh,med,2,4,med,low,unacc\\nvhigh,med,2,4,med,med,unacc\\nvhigh,med,2,4,med,high,acc\\nvhigh,med,2,4,big,low,unacc\\nvhigh,med,2,4,big,med,acc\\nvhigh,med,2,4,big,high,acc\\nvhigh,med,2,more,small,low,unacc\\nvhigh,med,2,more,small,med,unacc\\nvhigh,med,2,more,small,high,unacc\\nvhigh,med,2,more,med,low,unacc\\nvhigh,med,2,more,med,med,unacc\\nvhigh,med,2,more,med,high,acc\\nvhigh,med,2,more,big,low,unacc\\nvhigh,med,2,more,big,med,acc\\nvhigh,med,2,more,big,high,acc\\nvhigh,med,3,2,small,low,unacc\\nvhigh,med,3,2,small,med,unacc\\nvhigh,med,3,2,small,high,unacc\\nvhigh,med,3,2,med,low,unacc\\nvhigh,med,3,2,med,med,unacc\\nvhigh,med,3,2,med,high,unacc\\nvhigh,med,3,2,big,low,unacc\\nvhigh,med,3,2,big,med,unacc\\nvhigh,med,3,2,big,high,unacc\\nvhigh,med,3,4,small,low,unacc\\nvhigh,med,3,4,small,med,unacc\\nvhigh,med,3,4,small,high,acc\\nvhigh,med,3,4,med,low,unacc\\nvhigh,med,3,4,med,med,unacc\\nvhigh,med,3,4,med,high,acc\\nvhigh,med,3,4,big,low,unacc\\nvhigh,med,3,4,big,med,acc\\nvhigh,med,3,4,big,high,acc\\nvhigh,med,3,more,small,low,unacc\\nvhigh,med,3,more,small,med,unacc\\nvhigh,med,3,more,small,high,acc\\nvhigh,med,3,more,med,low,unacc\\nvhigh,med,3,more,med,med,acc\\nvhigh,med,3,more,med,high,acc\\nvhigh,med,3,more,big,low,unacc\\nvhigh,med,3,more,big,med,acc\\nvhigh,med,3,more,big,high,acc\\nvhigh,med,4,2,small,low,unacc\\nvhigh,med,4,2,small,med,unacc\\nvhigh,med,4,2,small,high,unacc\\nvhigh,med,4,2,med,low,unacc\\nvhigh,med,4,2,med,med,unacc\\nvhigh,med,4,2,med,high,unacc\\nvhigh,med,4,2,big,low,unacc\\nvhigh,med,4,2,big,med,unacc\\nvhigh,med,4,2,big,high,unacc\\nvhigh,med,4,4,small,low,unacc\\nvhigh,med,4,4,small,med,unacc\\nvhigh,med,4,4,small,high,acc\\nvhigh,med,4,4,med,low,unacc\\nvhigh,med,4,4,med,med,acc\\nvhigh,med,4,4,med,high,acc\\nvhigh,med,4,4,big,low,unacc\\nvhigh,med,4,4,big,med,acc\\nvhigh,med,4,4,big,high,acc\\nvhigh,med,4,more,small,low,unacc\\nvhigh,med,4,more,small,med,unacc\\nvhigh,med,4,more,small,high,acc\\nvhigh,med,4,more,med,low,unacc\\nvhigh,med,4,more,med,med,acc\\nvhigh,med,4,more,med,high,acc\\nvhigh,med,4,more,big,low,unacc\\nvhigh,med,4,more,big,med,acc\\nvhigh,med,4,more,big,high,acc\\nvhigh,med,5more,2,small,low,unacc\\nvhigh,med,5more,2,small,med,unacc\\nvhigh,med,5more,2,small,high,unacc\\nvhigh,med,5more,2,med,low,unacc\\nvhigh,med,5more,2,med,med,unacc\\nvhigh,med,5more,2,med,high,unacc\\nvhigh,med,5more,2,big,low,unacc\\nvhigh,med,5more,2,big,med,unacc\\nvhigh,med,5more,2,big,high,unacc\\nvhigh,med,5more,4,small,low,unacc\\nvhigh,med,5more,4,small,med,unacc\\nvhigh,med,5more,4,small,high,acc\\nvhigh,med,5more,4,med,low,unacc\\nvhigh,med,5more,4,med,med,acc\\nvhigh,med,5more,4,med,high,acc\\nvhigh,med,5more,4,big,low,unacc\\nvhigh,med,5more,4,big,med,acc\\nvhigh,med,5more,4,big,high,acc\\nvhigh,med,5more,more,small,low,unacc\\nvhigh,med,5more,more,small,med,unacc\\nvhigh,med,5more,more,small,high,acc\\nvhigh,med,5more,more,med,low,unacc\\nvhigh,med,5more,more,med,med,acc\\nvhigh,med,5more,more,med,high,acc\\nvhigh,med,5more,more,big,low,unacc\\nvhigh,med,5more,more,big,med,acc\\nvhigh,med,5more,more,big,high,acc\\nvhigh,low,2,2,small,low,unacc\\nvhigh,low,2,2,small,med,unacc\\nvhigh,low,2,2,small,high,unacc\\nvhigh,low,2,2,med,low,unacc\\nvhigh,low,2,2,med,med,unacc\\nvhigh,low,2,2,med,high,unacc\\nvhigh,low,2,2,big,low,unacc\\nvhigh,low,2,2,big,med,unacc\\nvhigh,low,2,2,big,high,unacc\\nvhigh,low,2,4,small,low,unacc\\nvhigh,low,2,4,small,med,unacc\\nvhigh,low,2,4,small,high,acc\\nvhigh,low,2,4,med,low,unacc\\nvhigh,low,2,4,med,med,unacc\\nvhigh,low,2,4,med,high,acc\\nvhigh,low,2,4,big,low,unacc\\nvhigh,low,2,4,big,med,acc\\nvhigh,low,2,4,big,high,acc\\nvhigh,low,2,more,small,low,unacc\\nvhigh,low,2,more,small,med,unacc\\nvhigh,low,2,more,small,high,unacc\\nvhigh,low,2,more,med,low,unacc\\nvhigh,low,2,more,med,med,unacc\\nvhigh,low,2,more,med,high,acc\\nvhigh,low,2,more,big,low,unacc\\nvhigh,low,2,more,big,med,acc\\nvhigh,low,2,more,big,high,acc\\nvhigh,low,3,2,small,low,unacc\\nvhigh,low,3,2,small,med,unacc\\nvhigh,low,3,2,small,high,unacc\\nvhigh,low,3,2,med,low,unacc\\nvhigh,low,3,2,med,med,unacc\\nvhigh,low,3,2,med,high,unacc\\nvhigh,low,3,2,big,low,unacc\\nvhigh,low,3,2,big,med,unacc\\nvhigh,low,3,2,big,high,unacc\\nvhigh,low,3,4,small,low,unacc\\nvhigh,low,3,4,small,med,unacc\\nvhigh,low,3,4,small,high,acc\\nvhigh,low,3,4,med,low,unacc\\nvhigh,low,3,4,med,med,unacc\\nvhigh,low,3,4,med,high,acc\\nvhigh,low,3,4,big,low,unacc\\nvhigh,low,3,4,big,med,acc\\nvhigh,low,3,4,big,high,acc\\nvhigh,low,3,more,small,low,unacc\\nvhigh,low,3,more,small,med,unacc\\nvhigh,low,3,more,small,high,acc\\nvhigh,low,3,more,med,low,unacc\\nvhigh,low,3,more,med,med,acc\\nvhigh,low,3,more,med,high,acc\\nvhigh,low,3,more,big,low,unacc\\nvhigh,low,3,more,big,med,acc\\nvhigh,low,3,more,big,high,acc\\nvhigh,low,4,2,small,low,unacc\\nvhigh,low,4,2,small,med,unacc\\nvhigh,low,4,2,small,high,unacc\\nvhigh,low,4,2,med,low,unacc\\nvhigh,low,4,2,med,med,unacc\\nvhigh,low,4,2,med,high,unacc\\nvhigh,low,4,2,big,low,unacc\\nvhigh,low,4,2,big,med,unacc\\nvhigh,low,4,2,big,high,unacc\\nvhigh,low,4,4,small,low,unacc\\nvhigh,low,4,4,small,med,unacc\\nvhigh,low,4,4,small,high,acc\\nvhigh,low,4,4,med,low,unacc\\nvhigh,low,4,4,med,med,acc\\nvhigh,low,4,4,med,high,acc\\nvhigh,low,4,4,big,low,unacc\\nvhigh,low,4,4,big,med,acc\\nvhigh,low,4,4,big,high,acc\\nvhigh,low,4,more,small,low,unacc\\nvhigh,low,4,more,small,med,unacc\\nvhigh,low,4,more,small,high,acc\\nvhigh,low,4,more,med,low,unacc\\nvhigh,low,4,more,med,med,acc\\nvhigh,low,4,more,med,high,acc\\nvhigh,low,4,more,big,low,unacc\\nvhigh,low,4,more,big,med,acc\\nvhigh,low,4,more,big,high,acc\\nvhigh,low,5more,2,small,low,unacc\\nvhigh,low,5more,2,small,med,unacc\\nvhigh,low,5more,2,small,high,unacc\\nvhigh,low,5more,2,med,low,unacc\\nvhigh,low,5more,2,med,med,unacc\\nvhigh,low,5more,2,med,high,unacc\\nvhigh,low,5more,2,big,low,unacc\\nvhigh,low,5more,2,big,med,unacc\\nvhigh,low,5more,2,big,high,unacc\\nvhigh,low,5more,4,small,low,unacc\\nvhigh,low,5more,4,small,med,unacc\\nvhigh,low,5more,4,small,high,acc\\nvhigh,low,5more,4,med,low,unacc\\nvhigh,low,5more,4,med,med,acc\\nvhigh,low,5more,4,med,high,acc\\nvhigh,low,5more,4,big,low,unacc\\nvhigh,low,5more,4,big,med,acc\\nvhigh,low,5more,4,big,high,acc\\nvhigh,low,5more,more,small,low,unacc\\nvhigh,low,5more,more,small,med,unacc\\nvhigh,low,5more,more,small,high,acc\\nvhigh,low,5more,more,med,low,unacc\\nvhigh,low,5more,more,med,med,acc\\nvhigh,low,5more,more,med,high,acc\\nvhigh,low,5more,more,big,low,unacc\\nvhigh,low,5more,more,big,med,acc\\nvhigh,low,5more,more,big,high,acc\\nhigh,vhigh,2,2,small,low,unacc\\nhigh,vhigh,2,2,small,med,unacc\\nhigh,vhigh,2,2,small,high,unacc\\nhigh,vhigh,2,2,med,low,unacc\\nhigh,vhigh,2,2,med,med,unacc\\nhigh,vhigh,2,2,med,high,unacc\\nhigh,vhigh,2,2,big,low,unacc\\nhigh,vhigh,2,2,big,med,unacc\\nhigh,vhigh,2,2,big,high,unacc\\nhigh,vhigh,2,4,small,low,unacc\\nhigh,vhigh,2,4,small,med,unacc\\nhigh,vhigh,2,4,small,high,unacc\\nhigh,vhigh,2,4,med,low,unacc\\nhigh,vhigh,2,4,med,med,unacc\\nhigh,vhigh,2,4,med,high,unacc\\nhigh,vhigh,2,4,big,low,unacc\\nhigh,vhigh,2,4,big,med,unacc\\nhigh,vhigh,2,4,big,high,unacc\\nhigh,vhigh,2,more,small,low,unacc\\nhigh,vhigh,2,more,small,med,unacc\\nhigh,vhigh,2,more,small,high,unacc\\nhigh,vhigh,2,more,med,low,unacc\\nhigh,vhigh,2,more,med,med,unacc\\nhigh,vhigh,2,more,med,high,unacc\\nhigh,vhigh,2,more,big,low,unacc\\nhigh,vhigh,2,more,big,med,unacc\\nhigh,vhigh,2,more,big,high,unacc\\nhigh,vhigh,3,2,small,low,unacc\\nhigh,vhigh,3,2,small,med,unacc\\nhigh,vhigh,3,2,small,high,unacc\\nhigh,vhigh,3,2,med,low,unacc\\nhigh,vhigh,3,2,med,med,unacc\\nhigh,vhigh,3,2,med,high,unacc\\nhigh,vhigh,3,2,big,low,unacc\\nhigh,vhigh,3,2,big,med,unacc\\nhigh,vhigh,3,2,big,high,unacc\\nhigh,vhigh,3,4,small,low,unacc\\nhigh,vhigh,3,4,small,med,unacc\\nhigh,vhigh,3,4,small,high,unacc\\nhigh,vhigh,3,4,med,low,unacc\\nhigh,vhigh,3,4,med,med,unacc\\nhigh,vhigh,3,4,med,high,unacc\\nhigh,vhigh,3,4,big,low,unacc\\nhigh,vhigh,3,4,big,med,unacc\\nhigh,vhigh,3,4,big,high,unacc\\nhigh,vhigh,3,more,small,low,unacc\\nhigh,vhigh,3,more,small,med,unacc\\nhigh,vhigh,3,more,small,high,unacc\\nhigh,vhigh,3,more,med,low,unacc\\nhigh,vhigh,3,more,med,med,unacc\\nhigh,vhigh,3,more,med,high,unacc\\nhigh,vhigh,3,more,big,low,unacc\\nhigh,vhigh,3,more,big,med,unacc\\nhigh,vhigh,3,more,big,high,unacc\\nhigh,vhigh,4,2,small,low,unacc\\nhigh,vhigh,4,2,small,med,unacc\\nhigh,vhigh,4,2,small,high,unacc\\nhigh,vhigh,4,2,med,low,unacc\\nhigh,vhigh,4,2,med,med,unacc\\nhigh,vhigh,4,2,med,high,unacc\\nhigh,vhigh,4,2,big,low,unacc\\nhigh,vhigh,4,2,big,med,unacc\\nhigh,vhigh,4,2,big,high,unacc\\nhigh,vhigh,4,4,small,low,unacc\\nhigh,vhigh,4,4,small,med,unacc\\nhigh,vhigh,4,4,small,high,unacc\\nhigh,vhigh,4,4,med,low,unacc\\nhigh,vhigh,4,4,med,med,unacc\\nhigh,vhigh,4,4,med,high,unacc\\nhigh,vhigh,4,4,big,low,unacc\\nhigh,vhigh,4,4,big,med,unacc\\nhigh,vhigh,4,4,big,high,unacc\\nhigh,vhigh,4,more,small,low,unacc\\nhigh,vhigh,4,more,small,med,unacc\\nhigh,vhigh,4,more,small,high,unacc\\nhigh,vhigh,4,more,med,low,unacc\\nhigh,vhigh,4,more,med,med,unacc\\nhigh,vhigh,4,more,med,high,unacc\\nhigh,vhigh,4,more,big,low,unacc\\nhigh,vhigh,4,more,big,med,unacc\\nhigh,vhigh,4,more,big,high,unacc\\nhigh,vhigh,5more,2,small,low,unacc\\nhigh,vhigh,5more,2,small,med,unacc\\nhigh,vhigh,5more,2,small,high,unacc\\nhigh,vhigh,5more,2,med,low,unacc\\nhigh,vhigh,5more,2,med,med,unacc\\nhigh,vhigh,5more,2,med,high,unacc\\nhigh,vhigh,5more,2,big,low,unacc\\nhigh,vhigh,5more,2,big,med,unacc\\nhigh,vhigh,5more,2,big,high,unacc\\nhigh,vhigh,5more,4,small,low,unacc\\nhigh,vhigh,5more,4,small,med,unacc\\nhigh,vhigh,5more,4,small,high,unacc\\nhigh,vhigh,5more,4,med,low,unacc\\nhigh,vhigh,5more,4,med,med,unacc\\nhigh,vhigh,5more,4,med,high,unacc\\nhigh,vhigh,5more,4,big,low,unacc\\nhigh,vhigh,5more,4,big,med,unacc\\nhigh,vhigh,5more,4,big,high,unacc\\nhigh,vhigh,5more,more,small,low,unacc\\nhigh,vhigh,5more,more,small,med,unacc\\nhigh,vhigh,5more,more,small,high,unacc\\nhigh,vhigh,5more,more,med,low,unacc\\nhigh,vhigh,5more,more,med,med,unacc\\nhigh,vhigh,5more,more,med,high,unacc\\nhigh,vhigh,5more,more,big,low,unacc\\nhigh,vhigh,5more,more,big,med,unacc\\nhigh,vhigh,5more,more,big,high,unacc\\nhigh,high,2,2,small,low,unacc\\nhigh,high,2,2,small,med,unacc\\nhigh,high,2,2,small,high,unacc\\nhigh,high,2,2,med,low,unacc\\nhigh,high,2,2,med,med,unacc\\nhigh,high,2,2,med,high,unacc\\nhigh,high,2,2,big,low,unacc\\nhigh,high,2,2,big,med,unacc\\nhigh,high,2,2,big,high,unacc\\nhigh,high,2,4,small,low,unacc\\nhigh,high,2,4,small,med,unacc\\nhigh,high,2,4,small,high,acc\\nhigh,high,2,4,med,low,unacc\\nhigh,high,2,4,med,med,unacc\\nhigh,high,2,4,med,high,acc\\nhigh,high,2,4,big,low,unacc\\nhigh,high,2,4,big,med,acc\\nhigh,high,2,4,big,high,acc\\nhigh,high,2,more,small,low,unacc\\nhigh,high,2,more,small,med,unacc\\nhigh,high,2,more,small,high,unacc\\nhigh,high,2,more,med,low,unacc\\nhigh,high,2,more,med,med,unacc\\nhigh,high,2,more,med,high,acc\\nhigh,high,2,more,big,low,unacc\\nhigh,high,2,more,big,med,acc\\nhigh,high,2,more,big,high,acc\\nhigh,high,3,2,small,low,unacc\\nhigh,high,3,2,small,med,unacc\\nhigh,high,3,2,small,high,unacc\\nhigh,high,3,2,med,low,unacc\\nhigh,high,3,2,med,med,unacc\\nhigh,high,3,2,med,high,unacc\\nhigh,high,3,2,big,low,unacc\\nhigh,high,3,2,big,med,unacc\\nhigh,high,3,2,big,high,unacc\\nhigh,high,3,4,small,low,unacc\\nhigh,high,3,4,small,med,unacc\\nhigh,high,3,4,small,high,acc\\nhigh,high,3,4,med,low,unacc\\nhigh,high,3,4,med,med,unacc\\nhigh,high,3,4,med,high,acc\\nhigh,high,3,4,big,low,unacc\\nhigh,high,3,4,big,med,acc\\nhigh,high,3,4,big,high,acc\\nhigh,high,3,more,small,low,unacc\\nhigh,high,3,more,small,med,unacc\\nhigh,high,3,more,small,high,acc\\nhigh,high,3,more,med,low,unacc\\nhigh,high,3,more,med,med,acc\\nhigh,high,3,more,med,high,acc\\nhigh,high,3,more,big,low,unacc\\nhigh,high,3,more,big,med,acc\\nhigh,high,3,more,big,high,acc\\nhigh,high,4,2,small,low,unacc\\nhigh,high,4,2,small,med,unacc\\nhigh,high,4,2,small,high,unacc\\nhigh,high,4,2,med,low,unacc\\nhigh,high,4,2,med,med,unacc\\nhigh,high,4,2,med,high,unacc\\nhigh,high,4,2,big,low,unacc\\nhigh,high,4,2,big,med,unacc\\nhigh,high,4,2,big,high,unacc\\nhigh,high,4,4,small,low,unacc\\nhigh,high,4,4,small,med,unacc\\nhigh,high,4,4,small,high,acc\\nhigh,high,4,4,med,low,unacc\\nhigh,high,4,4,med,med,acc\\nhigh,high,4,4,med,high,acc\\nhigh,high,4,4,big,low,unacc\\nhigh,high,4,4,big,med,acc\\nhigh,high,4,4,big,high,acc\\nhigh,high,4,more,small,low,unacc\\nhigh,high,4,more,small,med,unacc\\nhigh,high,4,more,small,high,acc\\nhigh,high,4,more,med,low,unacc\\nhigh,high,4,more,med,med,acc\\nhigh,high,4,more,med,high,acc\\nhigh,high,4,more,big,low,unacc\\nhigh,high,4,more,big,med,acc\\nhigh,high,4,more,big,high,acc\\nhigh,high,5more,2,small,low,unacc\\nhigh,high,5more,2,small,med,unacc\\nhigh,high,5more,2,small,high,unacc\\nhigh,high,5more,2,med,low,unacc\\nhigh,high,5more,2,med,med,unacc\\nhigh,high,5more,2,med,high,unacc\\nhigh,high,5more,2,big,low,unacc\\nhigh,high,5more,2,big,med,unacc\\nhigh,high,5more,2,big,high,unacc\\nhigh,high,5more,4,small,low,unacc\\nhigh,high,5more,4,small,med,unacc\\nhigh,high,5more,4,small,high,acc\\nhigh,high,5more,4,med,low,unacc\\nhigh,high,5more,4,med,med,acc\\nhigh,high,5more,4,med,high,acc\\nhigh,high,5more,4,big,low,unacc\\nhigh,high,5more,4,big,med,acc\\nhigh,high,5more,4,big,high,acc\\nhigh,high,5more,more,small,low,unacc\\nhigh,high,5more,more,small,med,unacc\\nhigh,high,5more,more,small,high,acc\\nhigh,high,5more,more,med,low,unacc\\nhigh,high,5more,more,med,med,acc\\nhigh,high,5more,more,med,high,acc\\nhigh,high,5more,more,big,low,unacc\\nhigh,high,5more,more,big,med,acc\\nhigh,high,5more,more,big,high,acc\\nhigh,med,2,2,small,low,unacc\\nhigh,med,2,2,small,med,unacc\\nhigh,med,2,2,small,high,unacc\\nhigh,med,2,2,med,low,unacc\\nhigh,med,2,2,med,med,unacc\\nhigh,med,2,2,med,high,unacc\\nhigh,med,2,2,big,low,unacc\\nhigh,med,2,2,big,med,unacc\\nhigh,med,2,2,big,high,unacc\\nhigh,med,2,4,small,low,unacc\\nhigh,med,2,4,small,med,unacc\\nhigh,med,2,4,small,high,acc\\nhigh,med,2,4,med,low,unacc\\nhigh,med,2,4,med,med,unacc\\nhigh,med,2,4,med,high,acc\\nhigh,med,2,4,big,low,unacc\\nhigh,med,2,4,big,med,acc\\nhigh,med,2,4,big,high,acc\\nhigh,med,2,more,small,low,unacc\\nhigh,med,2,more,small,med,unacc\\nhigh,med,2,more,small,high,unacc\\nhigh,med,2,more,med,low,unacc\\nhigh,med,2,more,med,med,unacc\\nhigh,med,2,more,med,high,acc\\nhigh,med,2,more,big,low,unacc\\nhigh,med,2,more,big,med,acc\\nhigh,med,2,more,big,high,acc\\nhigh,med,3,2,small,low,unacc\\nhigh,med,3,2,small,med,unacc\\nhigh,med,3,2,small,high,unacc\\nhigh,med,3,2,med,low,unacc\\nhigh,med,3,2,med,med,unacc\\nhigh,med,3,2,med,high,unacc\\nhigh,med,3,2,big,low,unacc\\nhigh,med,3,2,big,med,unacc\\nhigh,med,3,2,big,high,unacc\\nhigh,med,3,4,small,low,unacc\\nhigh,med,3,4,small,med,unacc\\nhigh,med,3,4,small,high,acc\\nhigh,med,3,4,med,low,unacc\\nhigh,med,3,4,med,med,unacc\\nhigh,med,3,4,med,high,acc\\nhigh,med,3,4,big,low,unacc\\nhigh,med,3,4,big,med,acc\\nhigh,med,3,4,big,high,acc\\nhigh,med,3,more,small,low,unacc\\nhigh,med,3,more,small,med,unacc\\nhigh,med,3,more,small,high,acc\\nhigh,med,3,more,med,low,unacc\\nhigh,med,3,more,med,med,acc\\nhigh,med,3,more,med,high,acc\\nhigh,med,3,more,big,low,unacc\\nhigh,med,3,more,big,med,acc\\nhigh,med,3,more,big,high,acc\\nhigh,med,4,2,small,low,unacc\\nhigh,med,4,2,small,med,unacc\\nhigh,med,4,2,small,high,unacc\\nhigh,med,4,2,med,low,unacc\\nhigh,med,4,2,med,med,unacc\\nhigh,med,4,2,med,high,unacc\\nhigh,med,4,2,big,low,unacc\\nhigh,med,4,2,big,med,unacc\\nhigh,med,4,2,big,high,unacc\\nhigh,med,4,4,small,low,unacc\\nhigh,med,4,4,small,med,unacc\\nhigh,med,4,4,small,high,acc\\nhigh,med,4,4,med,low,unacc\\nhigh,med,4,4,med,med,acc\\nhigh,med,4,4,med,high,acc\\nhigh,med,4,4,big,low,unacc\\nhigh,med,4,4,big,med,acc\\nhigh,med,4,4,big,high,acc\\nhigh,med,4,more,small,low,unacc\\nhigh,med,4,more,small,med,unacc\\nhigh,med,4,more,small,high,acc\\nhigh,med,4,more,med,low,unacc\\nhigh,med,4,more,med,med,acc\\nhigh,med,4,more,med,high,acc\\nhigh,med,4,more,big,low,unacc\\nhigh,med,4,more,big,med,acc\\nhigh,med,4,more,big,high,acc\\nhigh,med,5more,2,small,low,unacc\\nhigh,med,5more,2,small,med,unacc\\nhigh,med,5more,2,small,high,unacc\\nhigh,med,5more,2,med,low,unacc\\nhigh,med,5more,2,med,med,unacc\\nhigh,med,5more,2,med,high,unacc\\nhigh,med,5more,2,big,low,unacc\\nhigh,med,5more,2,big,med,unacc\\nhigh,med,5more,2,big,high,unacc\\nhigh,med,5more,4,small,low,unacc\\nhigh,med,5more,4,small,med,unacc\\nhigh,med,5more,4,small,high,acc\\nhigh,med,5more,4,med,low,unacc\\nhigh,med,5more,4,med,med,acc\\nhigh,med,5more,4,med,high,acc\\nhigh,med,5more,4,big,low,unacc\\nhigh,med,5more,4,big,med,acc\\nhigh,med,5more,4,big,high,acc\\nhigh,med,5more,more,small,low,unacc\\nhigh,med,5more,more,small,med,unacc\\nhigh,med,5more,more,small,high,acc\\nhigh,med,5more,more,med,low,unacc\\nhigh,med,5more,more,med,med,acc\\nhigh,med,5more,more,med,high,acc\\nhigh,med,5more,more,big,low,unacc\\nhigh,med,5more,more,big,med,acc\\nhigh,med,5more,more,big,high,acc\\nhigh,low,2,2,small,low,unacc\\nhigh,low,2,2,small,med,unacc\\nhigh,low,2,2,small,high,unacc\\nhigh,low,2,2,med,low,unacc\\nhigh,low,2,2,med,med,unacc\\nhigh,low,2,2,med,high,unacc\\nhigh,low,2,2,big,low,unacc\\nhigh,low,2,2,big,med,unacc\\nhigh,low,2,2,big,high,unacc\\nhigh,low,2,4,small,low,unacc\\nhigh,low,2,4,small,med,unacc\\nhigh,low,2,4,small,high,acc\\nhigh,low,2,4,med,low,unacc\\nhigh,low,2,4,med,med,unacc\\nhigh,low,2,4,med,high,acc\\nhigh,low,2,4,big,low,unacc\\nhigh,low,2,4,big,med,acc\\nhigh,low,2,4,big,high,acc\\nhigh,low,2,more,small,low,unacc\\nhigh,low,2,more,small,med,unacc\\nhigh,low,2,more,small,high,unacc\\nhigh,low,2,more,med,low,unacc\\nhigh,low,2,more,med,med,unacc\\nhigh,low,2,more,med,high,acc\\nhigh,low,2,more,big,low,unacc\\nhigh,low,2,more,big,med,acc\\nhigh,low,2,more,big,high,acc\\nhigh,low,3,2,small,low,unacc\\nhigh,low,3,2,small,med,unacc\\nhigh,low,3,2,small,high,unacc\\nhigh,low,3,2,med,low,unacc\\nhigh,low,3,2,med,med,unacc\\nhigh,low,3,2,med,high,unacc\\nhigh,low,3,2,big,low,unacc\\nhigh,low,3,2,big,med,unacc\\nhigh,low,3,2,big,high,unacc\\nhigh,low,3,4,small,low,unacc\\nhigh,low,3,4,small,med,unacc\\nhigh,low,3,4,small,high,acc\\nhigh,low,3,4,med,low,unacc\\nhigh,low,3,4,med,med,unacc\\nhigh,low,3,4,med,high,acc\\nhigh,low,3,4,big,low,unacc\\nhigh,low,3,4,big,med,acc\\nhigh,low,3,4,big,high,acc\\nhigh,low,3,more,small,low,unacc\\nhigh,low,3,more,small,med,unacc\\nhigh,low,3,more,small,high,acc\\nhigh,low,3,more,med,low,unacc\\nhigh,low,3,more,med,med,acc\\nhigh,low,3,more,med,high,acc\\nhigh,low,3,more,big,low,unacc\\nhigh,low,3,more,big,med,acc\\nhigh,low,3,more,big,high,acc\\nhigh,low,4,2,small,low,unacc\\nhigh,low,4,2,small,med,unacc\\nhigh,low,4,2,small,high,unacc\\nhigh,low,4,2,med,low,unacc\\nhigh,low,4,2,med,med,unacc\\nhigh,low,4,2,med,high,unacc\\nhigh,low,4,2,big,low,unacc\\nhigh,low,4,2,big,med,unacc\\nhigh,low,4,2,big,high,unacc\\nhigh,low,4,4,small,low,unacc\\nhigh,low,4,4,small,med,unacc\\nhigh,low,4,4,small,high,acc\\nhigh,low,4,4,med,low,unacc\\nhigh,low,4,4,med,med,acc\\nhigh,low,4,4,med,high,acc\\nhigh,low,4,4,big,low,unacc\\nhigh,low,4,4,big,med,acc\\nhigh,low,4,4,big,high,acc\\nhigh,low,4,more,small,low,unacc\\nhigh,low,4,more,small,med,unacc\\nhigh,low,4,more,small,high,acc\\nhigh,low,4,more,med,low,unacc\\nhigh,low,4,more,med,med,acc\\nhigh,low,4,more,med,high,acc\\nhigh,low,4,more,big,low,unacc\\nhigh,low,4,more,big,med,acc\\nhigh,low,4,more,big,high,acc\\nhigh,low,5more,2,small,low,unacc\\nhigh,low,5more,2,small,med,unacc\\nhigh,low,5more,2,small,high,unacc\\nhigh,low,5more,2,med,low,unacc\\nhigh,low,5more,2,med,med,unacc\\nhigh,low,5more,2,med,high,unacc\\nhigh,low,5more,2,big,low,unacc\\nhigh,low,5more,2,big,med,unacc\\nhigh,low,5more,2,big,high,unacc\\nhigh,low,5more,4,small,low,unacc\\nhigh,low,5more,4,small,med,unacc\\nhigh,low,5more,4,small,high,acc\\nhigh,low,5more,4,med,low,unacc\\nhigh,low,5more,4,med,med,acc\\nhigh,low,5more,4,med,high,acc\\nhigh,low,5more,4,big,low,unacc\\nhigh,low,5more,4,big,med,acc\\nhigh,low,5more,4,big,high,acc\\nhigh,low,5more,more,small,low,unacc\\nhigh,low,5more,more,small,med,unacc\\nhigh,low,5more,more,small,high,acc\\nhigh,low,5more,more,med,low,unacc\\nhigh,low,5more,more,med,med,acc\\nhigh,low,5more,more,med,high,acc\\nhigh,low,5more,more,big,low,unacc\\nhigh,low,5more,more,big,med,acc\\nhigh,low,5more,more,big,high,acc\\nmed,vhigh,2,2,small,low,unacc\\nmed,vhigh,2,2,small,med,unacc\\nmed,vhigh,2,2,small,high,unacc\\nmed,vhigh,2,2,med,low,unacc\\nmed,vhigh,2,2,med,med,unacc\\nmed,vhigh,2,2,med,high,unacc\\nmed,vhigh,2,2,big,low,unacc\\nmed,vhigh,2,2,big,med,unacc\\nmed,vhigh,2,2,big,high,unacc\\nmed,vhigh,2,4,small,low,unacc\\nmed,vhigh,2,4,small,med,unacc\\nmed,vhigh,2,4,small,high,acc\\nmed,vhigh,2,4,med,low,unacc\\nmed,vhigh,2,4,med,med,unacc\\nmed,vhigh,2,4,med,high,acc\\nmed,vhigh,2,4,big,low,unacc\\nmed,vhigh,2,4,big,med,acc\\nmed,vhigh,2,4,big,high,acc\\nmed,vhigh,2,more,small,low,unacc\\nmed,vhigh,2,more,small,med,unacc\\nmed,vhigh,2,more,small,high,unacc\\nmed,vhigh,2,more,med,low,unacc\\nmed,vhigh,2,more,med,med,unacc\\nmed,vhigh,2,more,med,high,acc\\nmed,vhigh,2,more,big,low,unacc\\nmed,vhigh,2,more,big,med,acc\\nmed,vhigh,2,more,big,high,acc\\nmed,vhigh,3,2,small,low,unacc\\nmed,vhigh,3,2,small,med,unacc\\nmed,vhigh,3,2,small,high,unacc\\nmed,vhigh,3,2,med,low,unacc\\nmed,vhigh,3,2,med,med,unacc\\nmed,vhigh,3,2,med,high,unacc\\nmed,vhigh,3,2,big,low,unacc\\nmed,vhigh,3,2,big,med,unacc\\nmed,vhigh,3,2,big,high,unacc\\nmed,vhigh,3,4,small,low,unacc\\nmed,vhigh,3,4,small,med,unacc\\nmed,vhigh,3,4,small,high,acc\\nmed,vhigh,3,4,med,low,unacc\\nmed,vhigh,3,4,med,med,unacc\\nmed,vhigh,3,4,med,high,acc\\nmed,vhigh,3,4,big,low,unacc\\nmed,vhigh,3,4,big,med,acc\\nmed,vhigh,3,4,big,high,acc\\nmed,vhigh,3,more,small,low,unacc\\nmed,vhigh,3,more,small,med,unacc\\nmed,vhigh,3,more,small,high,acc\\nmed,vhigh,3,more,med,low,unacc\\nmed,vhigh,3,more,med,med,acc\\nmed,vhigh,3,more,med,high,acc\\nmed,vhigh,3,more,big,low,unacc\\nmed,vhigh,3,more,big,med,acc\\nmed,vhigh,3,more,big,high,acc\\nmed,vhigh,4,2,small,low,unacc\\nmed,vhigh,4,2,small,med,unacc\\nmed,vhigh,4,2,small,high,unacc\\nmed,vhigh,4,2,med,low,unacc\\nmed,vhigh,4,2,med,med,unacc\\nmed,vhigh,4,2,med,high,unacc\\nmed,vhigh,4,2,big,low,unacc\\nmed,vhigh,4,2,big,med,unacc\\nmed,vhigh,4,2,big,high,unacc\\nmed,vhigh,4,4,small,low,unacc\\nmed,vhigh,4,4,small,med,unacc\\nmed,vhigh,4,4,small,high,acc\\nmed,vhigh,4,4,med,low,unacc\\nmed,vhigh,4,4,med,med,acc\\nmed,vhigh,4,4,med,high,acc\\nmed,vhigh,4,4,big,low,unacc\\nmed,vhigh,4,4,big,med,acc\\nmed,vhigh,4,4,big,high,acc\\nmed,vhigh,4,more,small,low,unacc\\nmed,vhigh,4,more,small,med,unacc\\nmed,vhigh,4,more,small,high,acc\\nmed,vhigh,4,more,med,low,unacc\\nmed,vhigh,4,more,med,med,acc\\nmed,vhigh,4,more,med,high,acc\\nmed,vhigh,4,more,big,low,unacc\\nmed,vhigh,4,more,big,med,acc\\nmed,vhigh,4,more,big,high,acc\\nmed,vhigh,5more,2,small,low,unacc\\nmed,vhigh,5more,2,small,med,unacc\\nmed,vhigh,5more,2,small,high,unacc\\nmed,vhigh,5more,2,med,low,unacc\\nmed,vhigh,5more,2,med,med,unacc\\nmed,vhigh,5more,2,med,high,unacc\\nmed,vhigh,5more,2,big,low,unacc\\nmed,vhigh,5more,2,big,med,unacc\\nmed,vhigh,5more,2,big,high,unacc\\nmed,vhigh,5more,4,small,low,unacc\\nmed,vhigh,5more,4,small,med,unacc\\nmed,vhigh,5more,4,small,high,acc\\nmed,vhigh,5more,4,med,low,unacc\\nmed,vhigh,5more,4,med,med,acc\\nmed,vhigh,5more,4,med,high,acc\\nmed,vhigh,5more,4,big,low,unacc\\nmed,vhigh,5more,4,big,med,acc\\nmed,vhigh,5more,4,big,high,acc\\nmed,vhigh,5more,more,small,low,unacc\\nmed,vhigh,5more,more,small,med,unacc\\nmed,vhigh,5more,more,small,high,acc\\nmed,vhigh,5more,more,med,low,unacc\\nmed,vhigh,5more,more,med,med,acc\\nmed,vhigh,5more,more,med,high,acc\\nmed,vhigh,5more,more,big,low,unacc\\nmed,vhigh,5more,more,big,med,acc\\nmed,vhigh,5more,more,big,high,acc\\nmed,high,2,2,small,low,unacc\\nmed,high,2,2,small,med,unacc\\nmed,high,2,2,small,high,unacc\\nmed,high,2,2,med,low,unacc\\nmed,high,2,2,med,med,unacc\\nmed,high,2,2,med,high,unacc\\nmed,high,2,2,big,low,unacc\\nmed,high,2,2,big,med,unacc\\nmed,high,2,2,big,high,unacc\\nmed,high,2,4,small,low,unacc\\nmed,high,2,4,small,med,unacc\\nmed,high,2,4,small,high,acc\\nmed,high,2,4,med,low,unacc\\nmed,high,2,4,med,med,unacc\\nmed,high,2,4,med,high,acc\\nmed,high,2,4,big,low,unacc\\nmed,high,2,4,big,med,acc\\nmed,high,2,4,big,high,acc\\nmed,high,2,more,small,low,unacc\\nmed,high,2,more,small,med,unacc\\nmed,high,2,more,small,high,unacc\\nmed,high,2,more,med,low,unacc\\nmed,high,2,more,med,med,unacc\\nmed,high,2,more,med,high,acc\\nmed,high,2,more,big,low,unacc\\nmed,high,2,more,big,med,acc\\nmed,high,2,more,big,high,acc\\nmed,high,3,2,small,low,unacc\\nmed,high,3,2,small,med,unacc\\nmed,high,3,2,small,high,unacc\\nmed,high,3,2,med,low,unacc\\nmed,high,3,2,med,med,unacc\\nmed,high,3,2,med,high,unacc\\nmed,high,3,2,big,low,unacc\\nmed,high,3,2,big,med,unacc\\nmed,high,3,2,big,high,unacc\\nmed,high,3,4,small,low,unacc\\nmed,high,3,4,small,med,unacc\\nmed,high,3,4,small,high,acc\\nmed,high,3,4,med,low,unacc\\nmed,high,3,4,med,med,unacc\\nmed,high,3,4,med,high,acc\\nmed,high,3,4,big,low,unacc\\nmed,high,3,4,big,med,acc\\nmed,high,3,4,big,high,acc\\nmed,high,3,more,small,low,unacc\\nmed,high,3,more,small,med,unacc\\nmed,high,3,more,small,high,acc\\nmed,high,3,more,med,low,unacc\\nmed,high,3,more,med,med,acc\\nmed,high,3,more,med,high,acc\\nmed,high,3,more,big,low,unacc\\nmed,high,3,more,big,med,acc\\nmed,high,3,more,big,high,acc\\nmed,high,4,2,small,low,unacc\\nmed,high,4,2,small,med,unacc\\nmed,high,4,2,small,high,unacc\\nmed,high,4,2,med,low,unacc\\nmed,high,4,2,med,med,unacc\\nmed,high,4,2,med,high,unacc\\nmed,high,4,2,big,low,unacc\\nmed,high,4,2,big,med,unacc\\nmed,high,4,2,big,high,unacc\\nmed,high,4,4,small,low,unacc\\nmed,high,4,4,small,med,unacc\\nmed,high,4,4,small,high,acc\\nmed,high,4,4,med,low,unacc\\nmed,high,4,4,med,med,acc\\nmed,high,4,4,med,high,acc\\nmed,high,4,4,big,low,unacc\\nmed,high,4,4,big,med,acc\\nmed,high,4,4,big,high,acc\\nmed,high,4,more,small,low,unacc\\nmed,high,4,more,small,med,unacc\\nmed,high,4,more,small,high,acc\\nmed,high,4,more,med,low,unacc\\nmed,high,4,more,med,med,acc\\nmed,high,4,more,med,high,acc\\nmed,high,4,more,big,low,unacc\\nmed,high,4,more,big,med,acc\\nmed,high,4,more,big,high,acc\\nmed,high,5more,2,small,low,unacc\\nmed,high,5more,2,small,med,unacc\\nmed,high,5more,2,small,high,unacc\\nmed,high,5more,2,med,low,unacc\\nmed,high,5more,2,med,med,unacc\\nmed,high,5more,2,med,high,unacc\\nmed,high,5more,2,big,low,unacc\\nmed,high,5more,2,big,med,unacc\\nmed,high,5more,2,big,high,unacc\\nmed,high,5more,4,small,low,unacc\\nmed,high,5more,4,small,med,unacc\\nmed,high,5more,4,small,high,acc\\nmed,high,5more,4,med,low,unacc\\nmed,high,5more,4,med,med,acc\\nmed,high,5more,4,med,high,acc\\nmed,high,5more,4,big,low,unacc\\nmed,high,5more,4,big,med,acc\\nmed,high,5more,4,big,high,acc\\nmed,high,5more,more,small,low,unacc\\nmed,high,5more,more,small,med,unacc\\nmed,high,5more,more,small,high,acc\\nmed,high,5more,more,med,low,unacc\\nmed,high,5more,more,med,med,acc\\nmed,high,5more,more,med,high,acc\\nmed,high,5more,more,big,low,unacc\\nmed,high,5more,more,big,med,acc\\nmed,high,5more,more,big,high,acc\\nmed,med,2,2,small,low,unacc\\nmed,med,2,2,small,med,unacc\\nmed,med,2,2,small,high,unacc\\nmed,med,2,2,med,low,unacc\\nmed,med,2,2,med,med,unacc\\nmed,med,2,2,med,high,unacc\\nmed,med,2,2,big,low,unacc\\nmed,med,2,2,big,med,unacc\\nmed,med,2,2,big,high,unacc\\nmed,med,2,4,small,low,unacc\\nmed,med,2,4,small,med,acc\\nmed,med,2,4,small,high,acc\\nmed,med,2,4,med,low,unacc\\nmed,med,2,4,med,med,acc\\nmed,med,2,4,med,high,acc\\nmed,med,2,4,big,low,unacc\\nmed,med,2,4,big,med,acc\\nmed,med,2,4,big,high,vgood\\nmed,med,2,more,small,low,unacc\\nmed,med,2,more,small,med,unacc\\nmed,med,2,more,small,high,unacc\\nmed,med,2,more,med,low,unacc\\nmed,med,2,more,med,med,acc\\nmed,med,2,more,med,high,acc\\nmed,med,2,more,big,low,unacc\\nmed,med,2,more,big,med,acc\\nmed,med,2,more,big,high,vgood\\nmed,med,3,2,small,low,unacc\\nmed,med,3,2,small,med,unacc\\nmed,med,3,2,small,high,unacc\\nmed,med,3,2,med,low,unacc\\nmed,med,3,2,med,med,unacc\\nmed,med,3,2,med,high,unacc\\nmed,med,3,2,big,low,unacc\\nmed,med,3,2,big,med,unacc\\nmed,med,3,2,big,high,unacc\\nmed,med,3,4,small,low,unacc\\nmed,med,3,4,small,med,acc\\nmed,med,3,4,small,high,acc\\nmed,med,3,4,med,low,unacc\\nmed,med,3,4,med,med,acc\\nmed,med,3,4,med,high,acc\\nmed,med,3,4,big,low,unacc\\nmed,med,3,4,big,med,acc\\nmed,med,3,4,big,high,vgood\\nmed,med,3,more,small,low,unacc\\nmed,med,3,more,small,med,acc\\nmed,med,3,more,small,high,acc\\nmed,med,3,more,med,low,unacc\\nmed,med,3,more,med,med,acc\\nmed,med,3,more,med,high,vgood\\nmed,med,3,more,big,low,unacc\\nmed,med,3,more,big,med,acc\\nmed,med,3,more,big,high,vgood\\nmed,med,4,2,small,low,unacc\\nmed,med,4,2,small,med,unacc\\nmed,med,4,2,small,high,unacc\\nmed,med,4,2,med,low,unacc\\nmed,med,4,2,med,med,unacc\\nmed,med,4,2,med,high,unacc\\nmed,med,4,2,big,low,unacc\\nmed,med,4,2,big,med,unacc\\nmed,med,4,2,big,high,unacc\\nmed,med,4,4,small,low,unacc\\nmed,med,4,4,small,med,acc\\nmed,med,4,4,small,high,acc\\nmed,med,4,4,med,low,unacc\\nmed,med,4,4,med,med,acc\\nmed,med,4,4,med,high,vgood\\nmed,med,4,4,big,low,unacc\\nmed,med,4,4,big,med,acc\\nmed,med,4,4,big,high,vgood\\nmed,med,4,more,small,low,unacc\\nmed,med,4,more,small,med,acc\\nmed,med,4,more,small,high,acc\\nmed,med,4,more,med,low,unacc\\nmed,med,4,more,med,med,acc\\nmed,med,4,more,med,high,vgood\\nmed,med,4,more,big,low,unacc\\nmed,med,4,more,big,med,acc\\nmed,med,4,more,big,high,vgood\\nmed,med,5more,2,small,low,unacc\\nmed,med,5more,2,small,med,unacc\\nmed,med,5more,2,small,high,unacc\\nmed,med,5more,2,med,low,unacc\\nmed,med,5more,2,med,med,unacc\\nmed,med,5more,2,med,high,unacc\\nmed,med,5more,2,big,low,unacc\\nmed,med,5more,2,big,med,unacc\\nmed,med,5more,2,big,high,unacc\\nmed,med,5more,4,small,low,unacc\\nmed,med,5more,4,small,med,acc\\nmed,med,5more,4,small,high,acc\\nmed,med,5more,4,med,low,unacc\\nmed,med,5more,4,med,med,acc\\nmed,med,5more,4,med,high,vgood\\nmed,med,5more,4,big,low,unacc\\nmed,med,5more,4,big,med,acc\\nmed,med,5more,4,big,high,vgood\\nmed,med,5more,more,small,low,unacc\\nmed,med,5more,more,small,med,acc\\nmed,med,5more,more,small,high,acc\\nmed,med,5more,more,med,low,unacc\\nmed,med,5more,more,med,med,acc\\nmed,med,5more,more,med,high,vgood\\nmed,med,5more,more,big,low,unacc\\nmed,med,5more,more,big,med,acc\\nmed,med,5more,more,big,high,vgood\\nmed,low,2,2,small,low,unacc\\nmed,low,2,2,small,med,unacc\\nmed,low,2,2,small,high,unacc\\nmed,low,2,2,med,low,unacc\\nmed,low,2,2,med,med,unacc\\nmed,low,2,2,med,high,unacc\\nmed,low,2,2,big,low,unacc\\nmed,low,2,2,big,med,unacc\\nmed,low,2,2,big,high,unacc\\nmed,low,2,4,small,low,unacc\\nmed,low,2,4,small,med,acc\\nmed,low,2,4,small,high,good\\nmed,low,2,4,med,low,unacc\\nmed,low,2,4,med,med,acc\\nmed,low,2,4,med,high,good\\nmed,low,2,4,big,low,unacc\\nmed,low,2,4,big,med,good\\nmed,low,2,4,big,high,vgood\\nmed,low,2,more,small,low,unacc\\nmed,low,2,more,small,med,unacc\\nmed,low,2,more,small,high,unacc\\nmed,low,2,more,med,low,unacc\\nmed,low,2,more,med,med,acc\\nmed,low,2,more,med,high,good\\nmed,low,2,more,big,low,unacc\\nmed,low,2,more,big,med,good\\nmed,low,2,more,big,high,vgood\\nmed,low,3,2,small,low,unacc\\nmed,low,3,2,small,med,unacc\\nmed,low,3,2,small,high,unacc\\nmed,low,3,2,med,low,unacc\\nmed,low,3,2,med,med,unacc\\nmed,low,3,2,med,high,unacc\\nmed,low,3,2,big,low,unacc\\nmed,low,3,2,big,med,unacc\\nmed,low,3,2,big,high,unacc\\nmed,low,3,4,small,low,unacc\\nmed,low,3,4,small,med,acc\\nmed,low,3,4,small,high,good\\nmed,low,3,4,med,low,unacc\\nmed,low,3,4,med,med,acc\\nmed,low,3,4,med,high,good\\nmed,low,3,4,big,low,unacc\\nmed,low,3,4,big,med,good\\nmed,low,3,4,big,high,vgood\\nmed,low,3,more,small,low,unacc\\nmed,low,3,more,small,med,acc\\nmed,low,3,more,small,high,good\\nmed,low,3,more,med,low,unacc\\nmed,low,3,more,med,med,good\\nmed,low,3,more,med,high,vgood\\nmed,low,3,more,big,low,unacc\\nmed,low,3,more,big,med,good\\nmed,low,3,more,big,high,vgood\\nmed,low,4,2,small,low,unacc\\nmed,low,4,2,small,med,unacc\\nmed,low,4,2,small,high,unacc\\nmed,low,4,2,med,low,unacc\\nmed,low,4,2,med,med,unacc\\nmed,low,4,2,med,high,unacc\\nmed,low,4,2,big,low,unacc\\nmed,low,4,2,big,med,unacc\\nmed,low,4,2,big,high,unacc\\nmed,low,4,4,small,low,unacc\\nmed,low,4,4,small,med,acc\\nmed,low,4,4,small,high,good\\nmed,low,4,4,med,low,unacc\\nmed,low,4,4,med,med,good\\nmed,low,4,4,med,high,vgood\\nmed,low,4,4,big,low,unacc\\nmed,low,4,4,big,med,good\\nmed,low,4,4,big,high,vgood\\nmed,low,4,more,small,low,unacc\\nmed,low,4,more,small,med,acc\\nmed,low,4,more,small,high,good\\nmed,low,4,more,med,low,unacc\\nmed,low,4,more,med,med,good\\nmed,low,4,more,med,high,vgood\\nmed,low,4,more,big,low,unacc\\nmed,low,4,more,big,med,good\\nmed,low,4,more,big,high,vgood\\nmed,low,5more,2,small,low,unacc\\nmed,low,5more,2,small,med,unacc\\nmed,low,5more,2,small,high,unacc\\nmed,low,5more,2,med,low,unacc\\nmed,low,5more,2,med,med,unacc\\nmed,low,5more,2,med,high,unacc\\nmed,low,5more,2,big,low,unacc\\nmed,low,5more,2,big,med,unacc\\nmed,low,5more,2,big,high,unacc\\nmed,low,5more,4,small,low,unacc\\nmed,low,5more,4,small,med,acc\\nmed,low,5more,4,small,high,good\\nmed,low,5more,4,med,low,unacc\\nmed,low,5more,4,med,med,good\\nmed,low,5more,4,med,high,vgood\\nmed,low,5more,4,big,low,unacc\\nmed,low,5more,4,big,med,good\\nmed,low,5more,4,big,high,vgood\\nmed,low,5more,more,small,low,unacc\\nmed,low,5more,more,small,med,acc\\nmed,low,5more,more,small,high,good\\nmed,low,5more,more,med,low,unacc\\nmed,low,5more,more,med,med,good\\nmed,low,5more,more,med,high,vgood\\nmed,low,5more,more,big,low,unacc\\nmed,low,5more,more,big,med,good\\nmed,low,5more,more,big,high,vgood\\nlow,vhigh,2,2,small,low,unacc\\nlow,vhigh,2,2,small,med,unacc\\nlow,vhigh,2,2,small,high,unacc\\nlow,vhigh,2,2,med,low,unacc\\nlow,vhigh,2,2,med,med,unacc\\nlow,vhigh,2,2,med,high,unacc\\nlow,vhigh,2,2,big,low,unacc\\nlow,vhigh,2,2,big,med,unacc\\nlow,vhigh,2,2,big,high,unacc\\nlow,vhigh,2,4,small,low,unacc\\nlow,vhigh,2,4,small,med,unacc\\nlow,vhigh,2,4,small,high,acc\\nlow,vhigh,2,4,med,low,unacc\\nlow,vhigh,2,4,med,med,unacc\\nlow,vhigh,2,4,med,high,acc\\nlow,vhigh,2,4,big,low,unacc\\nlow,vhigh,2,4,big,med,acc\\nlow,vhigh,2,4,big,high,acc\\nlow,vhigh,2,more,small,low,unacc\\nlow,vhigh,2,more,small,med,unacc\\nlow,vhigh,2,more,small,high,unacc\\nlow,vhigh,2,more,med,low,unacc\\nlow,vhigh,2,more,med,med,unacc\\nlow,vhigh,2,more,med,high,acc\\nlow,vhigh,2,more,big,low,unacc\\nlow,vhigh,2,more,big,med,acc\\nlow,vhigh,2,more,big,high,acc\\nlow,vhigh,3,2,small,low,unacc\\nlow,vhigh,3,2,small,med,unacc\\nlow,vhigh,3,2,small,high,unacc\\nlow,vhigh,3,2,med,low,unacc\\nlow,vhigh,3,2,med,med,unacc\\nlow,vhigh,3,2,med,high,unacc\\nlow,vhigh,3,2,big,low,unacc\\nlow,vhigh,3,2,big,med,unacc\\nlow,vhigh,3,2,big,high,unacc\\nlow,vhigh,3,4,small,low,unacc\\nlow,vhigh,3,4,small,med,unacc\\nlow,vhigh,3,4,small,high,acc\\nlow,vhigh,3,4,med,low,unacc\\nlow,vhigh,3,4,med,med,unacc\\nlow,vhigh,3,4,med,high,acc\\nlow,vhigh,3,4,big,low,unacc\\nlow,vhigh,3,4,big,med,acc\\nlow,vhigh,3,4,big,high,acc\\nlow,vhigh,3,more,small,low,unacc\\nlow,vhigh,3,more,small,med,unacc\\nlow,vhigh,3,more,small,high,acc\\nlow,vhigh,3,more,med,low,unacc\\nlow,vhigh,3,more,med,med,acc\\nlow,vhigh,3,more,med,high,acc\\nlow,vhigh,3,more,big,low,unacc\\nlow,vhigh,3,more,big,med,acc\\nlow,vhigh,3,more,big,high,acc\\nlow,vhigh,4,2,small,low,unacc\\nlow,vhigh,4,2,small,med,unacc\\nlow,vhigh,4,2,small,high,unacc\\nlow,vhigh,4,2,med,low,unacc\\nlow,vhigh,4,2,med,med,unacc\\nlow,vhigh,4,2,med,high,unacc\\nlow,vhigh,4,2,big,low,unacc\\nlow,vhigh,4,2,big,med,unacc\\nlow,vhigh,4,2,big,high,unacc\\nlow,vhigh,4,4,small,low,unacc\\nlow,vhigh,4,4,small,med,unacc\\nlow,vhigh,4,4,small,high,acc\\nlow,vhigh,4,4,med,low,unacc\\nlow,vhigh,4,4,med,med,acc\\nlow,vhigh,4,4,med,high,acc\\nlow,vhigh,4,4,big,low,unacc\\nlow,vhigh,4,4,big,med,acc\\nlow,vhigh,4,4,big,high,acc\\nlow,vhigh,4,more,small,low,unacc\\nlow,vhigh,4,more,small,med,unacc\\nlow,vhigh,4,more,small,high,acc\\nlow,vhigh,4,more,med,low,unacc\\nlow,vhigh,4,more,med,med,acc\\nlow,vhigh,4,more,med,high,acc\\nlow,vhigh,4,more,big,low,unacc\\nlow,vhigh,4,more,big,med,acc\\nlow,vhigh,4,more,big,high,acc\\nlow,vhigh,5more,2,small,low,unacc\\nlow,vhigh,5more,2,small,med,unacc\\nlow,vhigh,5more,2,small,high,unacc\\nlow,vhigh,5more,2,med,low,unacc\\nlow,vhigh,5more,2,med,med,unacc\\nlow,vhigh,5more,2,med,high,unacc\\nlow,vhigh,5more,2,big,low,unacc\\nlow,vhigh,5more,2,big,med,unacc\\nlow,vhigh,5more,2,big,high,unacc\\nlow,vhigh,5more,4,small,low,unacc\\nlow,vhigh,5more,4,small,med,unacc\\nlow,vhigh,5more,4,small,high,acc\\nlow,vhigh,5more,4,med,low,unacc\\nlow,vhigh,5more,4,med,med,acc\\nlow,vhigh,5more,4,med,high,acc\\nlow,vhigh,5more,4,big,low,unacc\\nlow,vhigh,5more,4,big,med,acc\\nlow,vhigh,5more,4,big,high,acc\\nlow,vhigh,5more,more,small,low,unacc\\nlow,vhigh,5more,more,small,med,unacc\\nlow,vhigh,5more,more,small,high,acc\\nlow,vhigh,5more,more,med,low,unacc\\nlow,vhigh,5more,more,med,med,acc\\nlow,vhigh,5more,more,med,high,acc\\nlow,vhigh,5more,more,big,low,unacc\\nlow,vhigh,5more,more,big,med,acc\\nlow,vhigh,5more,more,big,high,acc\\nlow,high,2,2,small,low,unacc\\nlow,high,2,2,small,med,unacc\\nlow,high,2,2,small,high,unacc\\nlow,high,2,2,med,low,unacc\\nlow,high,2,2,med,med,unacc\\nlow,high,2,2,med,high,unacc\\nlow,high,2,2,big,low,unacc\\nlow,high,2,2,big,med,unacc\\nlow,high,2,2,big,high,unacc\\nlow,high,2,4,small,low,unacc\\nlow,high,2,4,small,med,acc\\nlow,high,2,4,small,high,acc\\nlow,high,2,4,med,low,unacc\\nlow,high,2,4,med,med,acc\\nlow,high,2,4,med,high,acc\\nlow,high,2,4,big,low,unacc\\nlow,high,2,4,big,med,acc\\nlow,high,2,4,big,high,vgood\\nlow,high,2,more,small,low,unacc\\nlow,high,2,more,small,med,unacc\\nlow,high,2,more,small,high,unacc\\nlow,high,2,more,med,low,unacc\\nlow,high,2,more,med,med,acc\\nlow,high,2,more,med,high,acc\\nlow,high,2,more,big,low,unacc\\nlow,high,2,more,big,med,acc\\nlow,high,2,more,big,high,vgood\\nlow,high,3,2,small,low,unacc\\nlow,high,3,2,small,med,unacc\\nlow,high,3,2,small,high,unacc\\nlow,high,3,2,med,low,unacc\\nlow,high,3,2,med,med,unacc\\nlow,high,3,2,med,high,unacc\\nlow,high,3,2,big,low,unacc\\nlow,high,3,2,big,med,unacc\\nlow,high,3,2,big,high,unacc\\nlow,high,3,4,small,low,unacc\\nlow,high,3,4,small,med,acc\\nlow,high,3,4,small,high,acc\\nlow,high,3,4,med,low,unacc\\nlow,high,3,4,med,med,acc\\nlow,high,3,4,med,high,acc\\nlow,high,3,4,big,low,unacc\\nlow,high,3,4,big,med,acc\\nlow,high,3,4,big,high,vgood\\nlow,high,3,more,small,low,unacc\\nlow,high,3,more,small,med,acc\\nlow,high,3,more,small,high,acc\\nlow,high,3,more,med,low,unacc\\nlow,high,3,more,med,med,acc\\nlow,high,3,more,med,high,vgood\\nlow,high,3,more,big,low,unacc\\nlow,high,3,more,big,med,acc\\nlow,high,3,more,big,high,vgood\\nlow,high,4,2,small,low,unacc\\nlow,high,4,2,small,med,unacc\\nlow,high,4,2,small,high,unacc\\nlow,high,4,2,med,low,unacc\\nlow,high,4,2,med,med,unacc\\nlow,high,4,2,med,high,unacc\\nlow,high,4,2,big,low,unacc\\nlow,high,4,2,big,med,unacc\\nlow,high,4,2,big,high,unacc\\nlow,high,4,4,small,low,unacc\\nlow,high,4,4,small,med,acc\\nlow,high,4,4,small,high,acc\\nlow,high,4,4,med,low,unacc\\nlow,high,4,4,med,med,acc\\nlow,high,4,4,med,high,vgood\\nlow,high,4,4,big,low,unacc\\nlow,high,4,4,big,med,acc\\nlow,high,4,4,big,high,vgood\\nlow,high,4,more,small,low,unacc\\nlow,high,4,more,small,med,acc\\nlow,high,4,more,small,high,acc\\nlow,high,4,more,med,low,unacc\\nlow,high,4,more,med,med,acc\\nlow,high,4,more,med,high,vgood\\nlow,high,4,more,big,low,unacc\\nlow,high,4,more,big,med,acc\\nlow,high,4,more,big,high,vgood\\nlow,high,5more,2,small,low,unacc\\nlow,high,5more,2,small,med,unacc\\nlow,high,5more,2,small,high,unacc\\nlow,high,5more,2,med,low,unacc\\nlow,high,5more,2,med,med,unacc\\nlow,high,5more,2,med,high,unacc\\nlow,high,5more,2,big,low,unacc\\nlow,high,5more,2,big,med,unacc\\nlow,high,5more,2,big,high,unacc\\nlow,high,5more,4,small,low,unacc\\nlow,high,5more,4,small,med,acc\\nlow,high,5more,4,small,high,acc\\nlow,high,5more,4,med,low,unacc\\nlow,high,5more,4,med,med,acc\\nlow,high,5more,4,med,high,vgood\\nlow,high,5more,4,big,low,unacc\\nlow,high,5more,4,big,med,acc\\nlow,high,5more,4,big,high,vgood\\nlow,high,5more,more,small,low,unacc\\nlow,high,5more,more,small,med,acc\\nlow,high,5more,more,small,high,acc\\nlow,high,5more,more,med,low,unacc\\nlow,high,5more,more,med,med,acc\\nlow,high,5more,more,med,high,vgood\\nlow,high,5more,more,big,low,unacc\\nlow,high,5more,more,big,med,acc\\nlow,high,5more,more,big,high,vgood\\nlow,med,2,2,small,low,unacc\\nlow,med,2,2,small,med,unacc\\nlow,med,2,2,small,high,unacc\\nlow,med,2,2,med,low,unacc\\nlow,med,2,2,med,med,unacc\\nlow,med,2,2,med,high,unacc\\nlow,med,2,2,big,low,unacc\\nlow,med,2,2,big,med,unacc\\nlow,med,2,2,big,high,unacc\\nlow,med,2,4,small,low,unacc\\nlow,med,2,4,small,med,acc\\nlow,med,2,4,small,high,good\\nlow,med,2,4,med,low,unacc\\nlow,med,2,4,med,med,acc\\nlow,med,2,4,med,high,good\\nlow,med,2,4,big,low,unacc\\nlow,med,2,4,big,med,good\\nlow,med,2,4,big,high,vgood\\nlow,med,2,more,small,low,unacc\\nlow,med,2,more,small,med,unacc\\nlow,med,2,more,small,high,unacc\\nlow,med,2,more,med,low,unacc\\nlow,med,2,more,med,med,acc\\nlow,med,2,more,med,high,good\\nlow,med,2,more,big,low,unacc\\nlow,med,2,more,big,med,good\\nlow,med,2,more,big,high,vgood\\nlow,med,3,2,small,low,unacc\\nlow,med,3,2,small,med,unacc\\nlow,med,3,2,small,high,unacc\\nlow,med,3,2,med,low,unacc\\nlow,med,3,2,med,med,unacc\\nlow,med,3,2,med,high,unacc\\nlow,med,3,2,big,low,unacc\\nlow,med,3,2,big,med,unacc\\nlow,med,3,2,big,high,unacc\\nlow,med,3,4,small,low,unacc\\nlow,med,3,4,small,med,acc\\nlow,med,3,4,small,high,good\\nlow,med,3,4,med,low,unacc\\nlow,med,3,4,med,med,acc\\nlow,med,3,4,med,high,good\\nlow,med,3,4,big,low,unacc\\nlow,med,3,4,big,med,good\\nlow,med,3,4,big,high,vgood\\nlow,med,3,more,small,low,unacc\\nlow,med,3,more,small,med,acc\\nlow,med,3,more,small,high,good\\nlow,med,3,more,med,low,unacc\\nlow,med,3,more,med,med,good\\nlow,med,3,more,med,high,vgood\\nlow,med,3,more,big,low,unacc\\nlow,med,3,more,big,med,good\\nlow,med,3,more,big,high,vgood\\nlow,med,4,2,small,low,unacc\\nlow,med,4,2,small,med,unacc\\nlow,med,4,2,small,high,unacc\\nlow,med,4,2,med,low,unacc\\nlow,med,4,2,med,med,unacc\\nlow,med,4,2,med,high,unacc\\nlow,med,4,2,big,low,unacc\\nlow,med,4,2,big,med,unacc\\nlow,med,4,2,big,high,unacc\\nlow,med,4,4,small,low,unacc\\nlow,med,4,4,small,med,acc\\nlow,med,4,4,small,high,good\\nlow,med,4,4,med,low,unacc\\nlow,med,4,4,med,med,good\\nlow,med,4,4,med,high,vgood\\nlow,med,4,4,big,low,unacc\\nlow,med,4,4,big,med,good\\nlow,med,4,4,big,high,vgood\\nlow,med,4,more,small,low,unacc\\nlow,med,4,more,small,med,acc\\nlow,med,4,more,small,high,good\\nlow,med,4,more,med,low,unacc\\nlow,med,4,more,med,med,good\\nlow,med,4,more,med,high,vgood\\nlow,med,4,more,big,low,unacc\\nlow,med,4,more,big,med,good\\nlow,med,4,more,big,high,vgood\\nlow,med,5more,2,small,low,unacc\\nlow,med,5more,2,small,med,unacc\\nlow,med,5more,2,small,high,unacc\\nlow,med,5more,2,med,low,unacc\\nlow,med,5more,2,med,med,unacc\\nlow,med,5more,2,med,high,unacc\\nlow,med,5more,2,big,low,unacc\\nlow,med,5more,2,big,med,unacc\\nlow,med,5more,2,big,high,unacc\\nlow,med,5more,4,small,low,unacc\\nlow,med,5more,4,small,med,acc\\nlow,med,5more,4,small,high,good\\nlow,med,5more,4,med,low,unacc\\nlow,med,5more,4,med,med,good\\nlow,med,5more,4,med,high,vgood\\nlow,med,5more,4,big,low,unacc\\nlow,med,5more,4,big,med,good\\nlow,med,5more,4,big,high,vgood\\nlow,med,5more,more,small,low,unacc\\nlow,med,5more,more,small,med,acc\\nlow,med,5more,more,small,high,good\\nlow,med,5more,more,med,low,unacc\\nlow,med,5more,more,med,med,good\\nlow,med,5more,more,med,high,vgood\\nlow,med,5more,more,big,low,unacc\\nlow,med,5more,more,big,med,good\\nlow,med,5more,more,big,high,vgood\\nlow,low,2,2,small,low,unacc\\nlow,low,2,2,small,med,unacc\\nlow,low,2,2,small,high,unacc\\nlow,low,2,2,med,low,unacc\\nlow,low,2,2,med,med,unacc\\nlow,low,2,2,med,high,unacc\\nlow,low,2,2,big,low,unacc\\nlow,low,2,2,big,med,unacc\\nlow,low,2,2,big,high,unacc\\nlow,low,2,4,small,low,unacc\\nlow,low,2,4,small,med,acc\\nlow,low,2,4,small,high,good\\nlow,low,2,4,med,low,unacc\\nlow,low,2,4,med,med,acc\\nlow,low,2,4,med,high,good\\nlow,low,2,4,big,low,unacc\\nlow,low,2,4,big,med,good\\nlow,low,2,4,big,high,vgood\\nlow,low,2,more,small,low,unacc\\nlow,low,2,more,small,med,unacc\\nlow,low,2,more,small,high,unacc\\nlow,low,2,more,med,low,unacc\\nlow,low,2,more,med,med,acc\\nlow,low,2,more,med,high,good\\nlow,low,2,more,big,low,unacc\\nlow,low,2,more,big,med,good\\nlow,low,2,more,big,high,vgood\\nlow,low,3,2,small,low,unacc\\nlow,low,3,2,small,med,unacc\\nlow,low,3,2,small,high,unacc\\nlow,low,3,2,med,low,unacc\\nlow,low,3,2,med,med,unacc\\nlow,low,3,2,med,high,unacc\\nlow,low,3,2,big,low,unacc\\nlow,low,3,2,big,med,unacc\\nlow,low,3,2,big,high,unacc\\nlow,low,3,4,small,low,unacc\\nlow,low,3,4,small,med,acc\\nlow,low,3,4,small,high,good\\nlow,low,3,4,med,low,unacc\\nlow,low,3,4,med,med,acc\\nlow,low,3,4,med,high,good\\nlow,low,3,4,big,low,unacc\\nlow,low,3,4,big,med,good\\nlow,low,3,4,big,high,vgood\\nlow,low,3,more,small,low,unacc\\nlow,low,3,more,small,med,acc\\nlow,low,3,more,small,high,good\\nlow,low,3,more,med,low,unacc\\nlow,low,3,more,med,med,good\\nlow,low,3,more,med,high,vgood\\nlow,low,3,more,big,low,unacc\\nlow,low,3,more,big,med,good\\nlow,low,3,more,big,high,vgood\\nlow,low,4,2,small,low,unacc\\nlow,low,4,2,small,med,unacc\\nlow,low,4,2,small,high,unacc\\nlow,low,4,2,med,low,unacc\\nlow,low,4,2,med,med,unacc\\nlow,low,4,2,med,high,unacc\\nlow,low,4,2,big,low,unacc\\nlow,low,4,2,big,med,unacc\\nlow,low,4,2,big,high,unacc\\nlow,low,4,4,small,low,unacc\\nlow,low,4,4,small,med,acc\\nlow,low,4,4,small,high,good\\nlow,low,4,4,med,low,unacc\\nlow,low,4,4,med,med,good\\nlow,low,4,4,med,high,vgood\\nlow,low,4,4,big,low,unacc\\nlow,low,4,4,big,med,good\\nlow,low,4,4,big,high,vgood\\nlow,low,4,more,small,low,unacc\\nlow,low,4,more,small,med,acc\\nlow,low,4,more,small,high,good\\nlow,low,4,more,med,low,unacc\\nlow,low,4,more,med,med,good\\nlow,low,4,more,med,high,vgood\\nlow,low,4,more,big,low,unacc\\nlow,low,4,more,big,med,good\\nlow,low,4,more,big,high,vgood\\nlow,low,5more,2,small,low,unacc\\nlow,low,5more,2,small,med,unacc\\nlow,low,5more,2,small,high,unacc\\nlow,low,5more,2,med,low,unacc\\nlow,low,5more,2,med,med,unacc\\nlow,low,5more,2,med,high,unacc\\nlow,low,5more,2,big,low,unacc\\nlow,low,5more,2,big,med,unacc\\nlow,low,5more,2,big,high,unacc\\nlow,low,5more,4,small,low,unacc\\nlow,low,5more,4,small,med,acc\\nlow,low,5more,4,small,high,good\\nlow,low,5more,4,med,low,unacc\\nlow,low,5more,4,med,med,good\\nlow,low,5more,4,med,high,vgood\\nlow,low,5more,4,big,low,unacc\\nlow,low,5more,4,big,med,good\\nlow,low,5more,4,big,high,vgood\\nlow,low,5more,more,small,low,unacc\\nlow,low,5more,more,small,med,acc\\nlow,low,5more,more,small,high,good\\nlow,low,5more,more,med,low,unacc\\nlow,low,5more,more,med,med,good\\nlow,low,5more,more,med,high,vgood\\nlow,low,5more,more,big,low,unacc\\nlow,low,5more,more,big,med,good\\nlow,low,5more,more,big,high,vgood\\n'"
      ]
     },
     "execution_count": 15,
     "metadata": {},
     "output_type": "execute_result"
    }
   ],
   "source": [
    "data"
   ]
  },
  {
   "cell_type": "code",
   "execution_count": 16,
   "metadata": {},
   "outputs": [],
   "source": [
    "data = pd.DataFrame([row.split(',') for row in data.splitlines()])"
   ]
  },
  {
   "cell_type": "code",
   "execution_count": 17,
   "metadata": {},
   "outputs": [
    {
     "data": {
      "text/html": [
       "<div>\n",
       "<style scoped>\n",
       "    .dataframe tbody tr th:only-of-type {\n",
       "        vertical-align: middle;\n",
       "    }\n",
       "\n",
       "    .dataframe tbody tr th {\n",
       "        vertical-align: top;\n",
       "    }\n",
       "\n",
       "    .dataframe thead th {\n",
       "        text-align: right;\n",
       "    }\n",
       "</style>\n",
       "<table border=\"1\" class=\"dataframe\">\n",
       "  <thead>\n",
       "    <tr style=\"text-align: right;\">\n",
       "      <th></th>\n",
       "      <th>0</th>\n",
       "      <th>1</th>\n",
       "      <th>2</th>\n",
       "      <th>3</th>\n",
       "      <th>4</th>\n",
       "      <th>5</th>\n",
       "      <th>6</th>\n",
       "    </tr>\n",
       "  </thead>\n",
       "  <tbody>\n",
       "    <tr>\n",
       "      <th>0</th>\n",
       "      <td>vhigh</td>\n",
       "      <td>vhigh</td>\n",
       "      <td>2</td>\n",
       "      <td>2</td>\n",
       "      <td>small</td>\n",
       "      <td>low</td>\n",
       "      <td>unacc</td>\n",
       "    </tr>\n",
       "    <tr>\n",
       "      <th>1</th>\n",
       "      <td>vhigh</td>\n",
       "      <td>vhigh</td>\n",
       "      <td>2</td>\n",
       "      <td>2</td>\n",
       "      <td>small</td>\n",
       "      <td>med</td>\n",
       "      <td>unacc</td>\n",
       "    </tr>\n",
       "    <tr>\n",
       "      <th>2</th>\n",
       "      <td>vhigh</td>\n",
       "      <td>vhigh</td>\n",
       "      <td>2</td>\n",
       "      <td>2</td>\n",
       "      <td>small</td>\n",
       "      <td>high</td>\n",
       "      <td>unacc</td>\n",
       "    </tr>\n",
       "    <tr>\n",
       "      <th>3</th>\n",
       "      <td>vhigh</td>\n",
       "      <td>vhigh</td>\n",
       "      <td>2</td>\n",
       "      <td>2</td>\n",
       "      <td>med</td>\n",
       "      <td>low</td>\n",
       "      <td>unacc</td>\n",
       "    </tr>\n",
       "    <tr>\n",
       "      <th>4</th>\n",
       "      <td>vhigh</td>\n",
       "      <td>vhigh</td>\n",
       "      <td>2</td>\n",
       "      <td>2</td>\n",
       "      <td>med</td>\n",
       "      <td>med</td>\n",
       "      <td>unacc</td>\n",
       "    </tr>\n",
       "    <tr>\n",
       "      <th>...</th>\n",
       "      <td>...</td>\n",
       "      <td>...</td>\n",
       "      <td>...</td>\n",
       "      <td>...</td>\n",
       "      <td>...</td>\n",
       "      <td>...</td>\n",
       "      <td>...</td>\n",
       "    </tr>\n",
       "    <tr>\n",
       "      <th>1723</th>\n",
       "      <td>low</td>\n",
       "      <td>low</td>\n",
       "      <td>5more</td>\n",
       "      <td>more</td>\n",
       "      <td>med</td>\n",
       "      <td>med</td>\n",
       "      <td>good</td>\n",
       "    </tr>\n",
       "    <tr>\n",
       "      <th>1724</th>\n",
       "      <td>low</td>\n",
       "      <td>low</td>\n",
       "      <td>5more</td>\n",
       "      <td>more</td>\n",
       "      <td>med</td>\n",
       "      <td>high</td>\n",
       "      <td>vgood</td>\n",
       "    </tr>\n",
       "    <tr>\n",
       "      <th>1725</th>\n",
       "      <td>low</td>\n",
       "      <td>low</td>\n",
       "      <td>5more</td>\n",
       "      <td>more</td>\n",
       "      <td>big</td>\n",
       "      <td>low</td>\n",
       "      <td>unacc</td>\n",
       "    </tr>\n",
       "    <tr>\n",
       "      <th>1726</th>\n",
       "      <td>low</td>\n",
       "      <td>low</td>\n",
       "      <td>5more</td>\n",
       "      <td>more</td>\n",
       "      <td>big</td>\n",
       "      <td>med</td>\n",
       "      <td>good</td>\n",
       "    </tr>\n",
       "    <tr>\n",
       "      <th>1727</th>\n",
       "      <td>low</td>\n",
       "      <td>low</td>\n",
       "      <td>5more</td>\n",
       "      <td>more</td>\n",
       "      <td>big</td>\n",
       "      <td>high</td>\n",
       "      <td>vgood</td>\n",
       "    </tr>\n",
       "  </tbody>\n",
       "</table>\n",
       "<p>1728 rows × 7 columns</p>\n",
       "</div>"
      ],
      "text/plain": [
       "          0      1      2     3      4     5      6\n",
       "0     vhigh  vhigh      2     2  small   low  unacc\n",
       "1     vhigh  vhigh      2     2  small   med  unacc\n",
       "2     vhigh  vhigh      2     2  small  high  unacc\n",
       "3     vhigh  vhigh      2     2    med   low  unacc\n",
       "4     vhigh  vhigh      2     2    med   med  unacc\n",
       "...     ...    ...    ...   ...    ...   ...    ...\n",
       "1723    low    low  5more  more    med   med   good\n",
       "1724    low    low  5more  more    med  high  vgood\n",
       "1725    low    low  5more  more    big   low  unacc\n",
       "1726    low    low  5more  more    big   med   good\n",
       "1727    low    low  5more  more    big  high  vgood\n",
       "\n",
       "[1728 rows x 7 columns]"
      ]
     },
     "execution_count": 17,
     "metadata": {},
     "output_type": "execute_result"
    }
   ],
   "source": [
    "data"
   ]
  },
  {
   "cell_type": "code",
   "execution_count": 19,
   "metadata": {},
   "outputs": [],
   "source": [
    "data.to_csv(\n",
    "    INGEST_DEST_FILE,\n",
    "    sep = INGEST_SEP,\n",
    "    index_label= INGEST_INDEX_LABEL\n",
    ")"
   ]
  },
  {
   "cell_type": "code",
   "execution_count": 20,
   "metadata": {},
   "outputs": [
    {
     "name": "stdout",
     "output_type": "stream",
     "text": [
      "Ingesting data from MinIO success.\n"
     ]
    }
   ],
   "source": [
    "res.close()\n",
    "res.release_conn()\n",
    "del res\n",
    "print(\"Ingesting data from MinIO success.\")"
   ]
  },
  {
   "cell_type": "code",
   "execution_count": null,
   "metadata": {},
   "outputs": [],
   "source": []
  }
 ],
 "metadata": {
  "kernelspec": {
   "display_name": "mlops",
   "language": "python",
   "name": "python3"
  },
  "language_info": {
   "codemirror_mode": {
    "name": "ipython",
    "version": 3
   },
   "file_extension": ".py",
   "mimetype": "text/x-python",
   "name": "python",
   "nbconvert_exporter": "python",
   "pygments_lexer": "ipython3",
   "version": "3.12.3"
  }
 },
 "nbformat": 4,
 "nbformat_minor": 2
}
